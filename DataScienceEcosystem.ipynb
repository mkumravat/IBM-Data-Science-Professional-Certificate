{
 "cells": [
  {
   "cell_type": "markdown",
   "id": "53f41d64-17f1-4e5a-b1de-32fb307c7abc",
   "metadata": {
    "tags": []
   },
   "source": [
    "# Data Science Tools and Ecosystem"
   ]
  },
  {
   "cell_type": "markdown",
   "id": "2188519d-a5be-44c7-8edc-325281f41c60",
   "metadata": {},
   "source": [
    "In this notebook, Data Science Tools and Ecosystem are summarized."
   ]
  },
  {
   "cell_type": "markdown",
   "id": "08ee167f-49a5-4243-8224-857331770eb0",
   "metadata": {},
   "source": [
    "<b> Objectives: </b>\n",
    "<ul>    <li> List popular languages for Data Science</li>\n",
    "        <li> List commonly used libraries used by Data Scientists</li>\n",
    "        <li> Ordered List and Unordered List</li>\n",
    "        <li> Arithmetic Expression</li>\n",
    "</ul>"
   ]
  },
  {
   "cell_type": "markdown",
   "id": "8b09485b-e106-4009-8b5b-61d3b414aef5",
   "metadata": {},
   "source": [
    "Some of the popular languages that Data Scientists use are: \n",
    "<ol>    <li> Python</li>\n",
    "        <li> Java</li>\n",
    "        <li> R</li>\n",
    "        <li> PERL</li>\n",
    "</ol>"
   ]
  },
  {
   "cell_type": "markdown",
   "id": "17f80b58-919e-41ba-b028-225949a15b00",
   "metadata": {},
   "source": [
    "Some of the commonly used libraries used by Data Scientists include: \n",
    "<ol>    <li> numpy</li>\n",
    "        <li> pandas</li>\n",
    "        <li> matplotlib</li>\n",
    "</ol>"
   ]
  },
  {
   "cell_type": "markdown",
   "id": "26f932f2-e6ad-4657-9676-293d7e16ec42",
   "metadata": {},
   "source": [
    "<table>\n",
    "    <tr>\n",
    "        <th>Data Science Tools</th>\n",
    "    </tr>\n",
    "    <tr>\n",
    "        <td>Jupyter Notebooks</td>\n",
    "    </tr>\n",
    "    <tr>\n",
    "        <td>Zeppelin Notebooks</td>\n",
    "    </tr>\n",
    "    <tr>\n",
    "        <td>R Studio</td>\n",
    "    </tr>\n",
    "</table>"
   ]
  },
  {
   "cell_type": "markdown",
   "id": "743df85b-9556-4ab7-8135-bdac4fad2559",
   "metadata": {},
   "source": [
    "### Below are a few examples of evaluating arithmetic expressions in Python"
   ]
  },
  {
   "cell_type": "markdown",
   "id": "f2efd76d-7470-4596-bf24-c0c32cb335e2",
   "metadata": {},
   "source": [
    "This a simple arithmetic expression to mutiply then add integers"
   ]
  },
  {
   "cell_type": "code",
   "execution_count": 2,
   "id": "19cae3c3-c1c5-4110-927d-ac2d85a18771",
   "metadata": {
    "tags": []
   },
   "outputs": [
    {
     "data": {
      "text/plain": [
       "17"
      ]
     },
     "execution_count": 2,
     "metadata": {},
     "output_type": "execute_result"
    }
   ],
   "source": [
    "(3*4)+5"
   ]
  },
  {
   "cell_type": "markdown",
   "id": "4fa8fc33-3f6e-4d99-afbf-3d704944ec1a",
   "metadata": {
    "tags": []
   },
   "source": [
    "This will convert 200 minutes to hours by diving by 60"
   ]
  },
  {
   "cell_type": "code",
   "execution_count": 10,
   "id": "9b01d2d5-59c9-42a8-a879-c1d472dcef3c",
   "metadata": {
    "tags": []
   },
   "outputs": [
    {
     "data": {
      "text/plain": [
       "3.3333333333333335"
      ]
     },
     "execution_count": 10,
     "metadata": {},
     "output_type": "execute_result"
    }
   ],
   "source": [
    "h=200/60\n",
    "h"
   ]
  },
  {
   "cell_type": "markdown",
   "id": "6c01e6bd-1995-4962-b6f4-0699fe003480",
   "metadata": {},
   "source": [
    "## Author\n",
    "Mausam Kumravat"
   ]
  }
 ],
 "metadata": {
  "kernelspec": {
   "display_name": "Python",
   "language": "python",
   "name": "conda-env-python-py"
  },
  "language_info": {
   "codemirror_mode": {
    "name": "ipython",
    "version": 3
   },
   "file_extension": ".py",
   "mimetype": "text/x-python",
   "name": "python",
   "nbconvert_exporter": "python",
   "pygments_lexer": "ipython3",
   "version": "3.7.12"
  }
 },
 "nbformat": 4,
 "nbformat_minor": 5
}
